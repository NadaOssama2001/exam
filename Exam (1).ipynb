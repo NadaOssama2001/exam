{
 "cells": [
  {
   "cell_type": "markdown",
   "id": "e63c2b2f-532d-472b-9305-349efdab1bbb",
   "metadata": {},
   "source": [
    "### Here are some test questions for simple linear regression, multiple linear regression, decision trees, and random forests:"
   ]
  },
  {
   "cell_type": "markdown",
   "id": "1cb2ef45-1db2-4254-83ae-a8b96adafc45",
   "metadata": {},
   "source": [
    " - Simple linear regression"
   ]
  },
  {
   "cell_type": "markdown",
   "id": "befbb994-df12-4924-ab55-0c94c8d582d4",
   "metadata": {},
   "source": [
    "What is the mathematical formula for a simple linear regression model?\n",
    "equation Y = a + bX\n",
    "Linear Regression with Multiple Variables:\n",
    "y = a0 + a1 x1 + a2 x2 + a3 x3 + ...... an xn"
   ]
  },
  {
   "cell_type": "markdown",
   "id": "3bc92ea5-17f6-4c26-bdc2-faea1f063462",
   "metadata": {},
   "source": [
    "How do you measure the fit of a simple linear regression model?\n",
    "R2\n",
    "RMSE (root mean square error)\n"
   ]
  },
  {
   "cell_type": "markdown",
   "id": "85208028-bdfc-4cdc-8139-cc4145d5c981",
   "metadata": {},
   "source": [
    "How do you determine the most appropriate model for a simple linear regression problem?\n",
    "\n",
    "The R² value, also known as coefficient of determination, tells us how much the predicted data, denoted by y_pred, explains the actual data, denoted by y. In other words, it represents the strength of the fit, however it does not say anything about the model itself — it does not tell you if the model is good, whether the data you’ve chosen is biased, or even if you’ve chosen the correct modelling method¹. I will show this using examples below.\n",
    "\n",
    "The R² value ranges from 0 to 1, with higher values denoting a strong fit, and lower values denoting a weak fit. Typically, it’s agreed that:\n",
    "R² < 0.5 → Weak fit\n",
    "\n",
    "0.5 ≤ R² ≤ 0.8 → Moderate fit\n",
    "\n",
    "R² > 0.8 → Strong fit,‘strength of fit’ even mean :your predicted values (y_pred) do not deviate much from your actual data (y).\n",
    "Mean Absolute Error (MAE)\n",
    "The MAE is the sum of all the error magnitudes divided by the number of points, so essentially the average error.\n",
    "Therefore, the lower the MAE, the less error in your model.\n",
    "\n",
    "\n",
    "RMSE is the square root of the MSE. This is in a way a more useful metric, and now since both MAE and RMSE have the same ‘order’ of error, they can be compared with each other.\n",
    "\n",
    "As with both MAE , lower MSAE → lower error."
   ]
  },
  {
   "cell_type": "markdown",
   "id": "c793d401-d2f2-4bb3-91c5-5eba16604a1f",
   "metadata": {},
   "source": [
    "- Multiple linear regression"
   ]
  },
  {
   "cell_type": "markdown",
   "id": "5dec5992-a8f2-4535-8d20-db0d0a27c668",
   "metadata": {},
   "source": [
    "How does multiple linear regression differ from simple linear regression?\n",
    "\n",
    "The main difference between the two is the number of independent variables involved.\n",
    "\n",
    "In simple linear regression, there is only one independent variable used to predict the dependent variable.\n",
    "multiple linear regression involves two or more independent variables used to predict the dependent variable. \n",
    "in general, multiple linear regression models are more complex than simple linear regression models and can provide more accurate predictions \n",
    "if the independent variables used are appropriate and relevant to the dependent variable being predicted.   "
   ]
  },
  {
   "cell_type": "markdown",
   "id": "339fee32-9bf1-40b2-a982-2b1f010c66cb",
   "metadata": {},
   "source": [
    "How do you identify which variables are significant in a multiple linear regression model?\n",
    "how you define “most important” often depends on your subject area and goals. For another, how you collect and measure your sample data can\n",
    "influence the apparent importance of each variable.\n",
    "\n",
    "\n",
    "P values and coefficients in regression analysis work together to tell you which relationships in your model are statistically significant \n",
    "and the nature of those relationships. The linear regression coefficients describe the mathematical relationship between each independent \n",
    "variable and the dependent variable. The p values for the coefficients indicate whether these relationships are statistically significant.\n",
    "\n",
    "\n",
    "\n"
   ]
  },
  {
   "cell_type": "markdown",
   "id": "b9ae6b6e-d411-444f-9bf2-f8cb6d4c97c5",
   "metadata": {},
   "source": [
    "How do you deal with multicollinearity in a multiple linear regression model?\n",
    "1-Remove some of the highly correlated independent variables.\n",
    "2-Linearly combine the independent variables, such as adding them together.\n",
    "3-Partial least squares regression uses principal component analysis to create a set of uncorrelated components to include in the model."
   ]
  },
  {
   "cell_type": "markdown",
   "id": "1c75a255-4625-43bf-9397-7ea76bebc777",
   "metadata": {},
   "source": [
    "- Decision trees"
   ]
  },
  {
   "cell_type": "markdown",
   "id": "ddc0a46f-cb2a-4040-b13a-3d3bfa79c3d9",
   "metadata": {},
   "source": [
    "What is the process for creating a decision tree?\n",
    "➔ Step 1: The standard deviation of the target is calculated.\n",
    "➔ Step 2: The dataset is then split on the different attributes. The standard deviation for each branch is calculated.\n",
    "The resulting standard deviation is subtracted from the standard deviation before the split. The result is the standard deviation reduction.\n",
    "➔ Step 3: The attribute with the largest standard deviation reduction is chosen for the decision node\n",
    "➔ Step 4: The dataset is divided based on the values of the selected attribute. This process is run recursively on the \n",
    "non-leaf branches, until all data is processed.\n"
   ]
  },
  {
   "cell_type": "markdown",
   "id": "e68df62e-e8a2-4f7a-8e02-284893b9d4c3",
   "metadata": {},
   "source": [
    "How do you decide which features to include in a decision tree?\n",
    "1-Picks the most determining feature, and divides the data according to that feature. In other words, among all the features in the data,\n",
    "picks the one that best divides the labels.\n",
    "2-Either makes the prediction based on the answer to that question, or picks another feature (the next most determining), and iterates."
   ]
  },
  {
   "cell_type": "markdown",
   "id": "0a8ccd3b-d9b0-411a-872d-5f74b3a7b41f",
   "metadata": {},
   "source": [
    "How do you determine the optimal depth of a decision tree?\n",
    "can set the maximum depth of our decision tree using themax_depth parameter. The more the value of max_depth, the more complex your tree will be. The training error will off-course decrease if we increase the max_depth value but when our test data comes into the picture, we will get a very bad accuracy."
   ]
  },
  {
   "cell_type": "markdown",
   "id": "e0a771a7-7388-47fe-b75f-43b719698aea",
   "metadata": {},
   "source": [
    "- Random forests"
   ]
  },
  {
   "cell_type": "markdown",
   "id": "fa7179be-7994-422c-8a39-cdf7a37a708a",
   "metadata": {},
   "source": [
    "What is the difference between a decision tree and a random forest?\n",
    "decision tree combines some decisions, whereas a random forest combines several decision trees. Thus, it is a long process, yet slow. \n",
    "Whereas, a decision tree is fast and operates easily on large data sets, especially the linear one. The random forest model needs rigorous\n",
    "training.\n"
   ]
  },
  {
   "cell_type": "markdown",
   "id": "ac649921-36a1-48b5-8148-b0bc8227e268",
   "metadata": {},
   "source": [
    "How do you decide the number of trees to include in a random forest?\n",
    "the number of trees needed in the Random Forest depends on the number of rows in the data set. The more rows in the data, \n",
    "the more trees are needed"
   ]
  },
  {
   "cell_type": "markdown",
   "id": "612c02ae-b582-43e5-9bbf-db6409c590d5",
   "metadata": {},
   "source": [
    "How do you measure the importance of different features in a random forest?\n",
    "Feature importance is calculated as the decrease in node impurity weighted by the probability of reaching that node. The node probability can be calculated by the number of samples that reach the node, divided by the total number of samples. The higher the value the more important the Feature"
   ]
  }
 ],
 "metadata": {
  "kernelspec": {
   "display_name": "Python 3 (ipykernel)",
   "language": "python",
   "name": "python3"
  },
  "language_info": {
   "codemirror_mode": {
    "name": "ipython",
    "version": 3
   },
   "file_extension": ".py",
   "mimetype": "text/x-python",
   "name": "python",
   "nbconvert_exporter": "python",
   "pygments_lexer": "ipython3",
   "version": "3.9.12"
  }
 },
 "nbformat": 4,
 "nbformat_minor": 5
}
